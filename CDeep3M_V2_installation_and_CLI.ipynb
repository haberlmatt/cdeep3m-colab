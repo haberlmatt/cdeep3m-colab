{
  "nbformat": 4,
  "nbformat_minor": 0,
  "metadata": {
    "colab": {
      "name": "CDeep3M-V2_installation_and_CLI.ipynb",
      "provenance": [],
      "collapsed_sections": [],
      "include_colab_link": true
    },
    "kernelspec": {
      "name": "python3",
      "display_name": "Python 3"
    },
    "accelerator": "GPU"
  },
  "cells": [
    {
      "cell_type": "markdown",
      "metadata": {
        "id": "view-in-github",
        "colab_type": "text"
      },
      "source": [
        "<a href=\"https://colab.research.google.com/github/haberlmatt/cdeep3m-colab/blob/master/CDeep3M_V2_installation_and_CLI.ipynb\" target=\"_parent\"><img src=\"https://colab.research.google.com/assets/colab-badge.svg\" alt=\"Open In Colab\"/></a>"
      ]
    },
    {
      "cell_type": "markdown",
      "metadata": {
        "id": "j3VNwQz5dZh0",
        "colab_type": "text"
      },
      "source": [
        "# <font color='#000FF'> **CDeep3M Installation:** </font>\n",
        "\n",
        "Run cell 1 below to install CDeep3M"
      ]
    },
    {
      "cell_type": "code",
      "metadata": {
        "id": "pXbJz-P7zdA1",
        "colab_type": "code",
        "colab": {},
        "cellView": "form"
      },
      "source": [
        "#@title # <==== **CDeep3M Colab -- Installation**\n",
        "#@markdown (Time est.: 20-30min)\n",
        "\n",
        "#@markdown A hardware check will initially performed to ensure the \n",
        "#@markdown runtime envirnment has sufficient GPU vRAM, \n",
        "#@markdown otherwise please click: Runtime -> Factory Reset\n",
        "\n",
        "#################\n",
        "# Prep\n",
        "#################\n",
        "\n",
        "!mkdir -p /home/\n",
        "%cd /home/\n",
        "# Get the repo\n",
        "!git clone https://github.com/haberlmatt/cdeep3m-colab.git\n",
        "\n",
        "# Install CDeep3M - Packaged into a installer file\n",
        "!chmod 777 /home/cdeep3m-colab/*\n",
        "\n",
        "# Make sure enough GPU memory available on this instance\n",
        "!python /home/cdeep3m-colab/tests/pythontest_GPUmem.py\n",
        "#!nvidia-smi\n",
        "\n",
        "##################################\n",
        "# Run CDeep3M installation\n",
        "##################################\n",
        "!/bin/bash /home/cdeep3m-colab/CDeep3M_V2_colab-installer.sh > /home/CDeep3m_installation.log\n",
        "\n",
        "#################\n",
        "# Set Environment\n",
        "#################\n",
        "import os\n",
        "os.environ['PATH'] += \":/home/nd_sense/caffe_nd_sense_segmentation/\"\n",
        "os.environ['CAFFE_PATH'] = \"/home/nd_sense/caffe_nd_sense_segmentation/\"\n",
        "os.environ['PYTHONPATH'] = \"/home/nd_sense/caffe_nd_sense_segmentation/distribute/python/\"\n",
        "os.environ['PATH'] += \":/home/cdeep3m/\"\n",
        "\n",
        "print(\"CDeep3M installation completed \\n   Runnning CDeep3M Version\")\n",
        "!cat /home/cdeep3m/VERSION\n",
        "print(\"\\nPlease see https://github.com/haberlmatt/cdeep3m-colab for further information on using CDeep3M\")"
      ],
      "execution_count": 0,
      "outputs": []
    },
    {
      "cell_type": "markdown",
      "metadata": {
        "id": "dZdpF0nGckmt",
        "colab_type": "text"
      },
      "source": [
        "---\n",
        "---\n",
        "# **Quick instructions:**\n",
        "\n",
        "***Most important commands:***\n",
        "`runprediction.sh`, `PreprocessTraining.py`, `runtraining.sh`\n",
        "\n",
        "***Hint:***\n",
        "Upload your data to the `/home/data` directory and start processing\n",
        "\n",
        "\n",
        "\n",
        "---\n",
        "---\n",
        "\n",
        "\n",
        "Please see https://github.com/haberlmatt/cdeep3m-colab for more detailed information on using CDeep3M\n",
        "Quick examples are provided below"
      ]
    },
    {
      "cell_type": "code",
      "metadata": {
        "id": "5T4CFtQqdq36",
        "colab_type": "code",
        "colab": {}
      },
      "source": [
        "###########################################\n",
        "# Insert your CLI code here to run CDeep3M:\n",
        "###########################################\n",
        "\n",
        "!runprediction.sh ...\n"
      ],
      "execution_count": 0,
      "outputs": []
    },
    {
      "cell_type": "markdown",
      "metadata": {
        "id": "Tf9ctB6KiPQn",
        "colab_type": "text"
      },
      "source": [
        "# ** Examples and Demoruns**\n",
        "**Example 1: Perform prediction on demodata using a pretrained model from database**\n",
        "\n",
        "* `!wget https://doi.org/10.7295/W9CDEEP3M50687`\n",
        "* `!mkdir /home/trainedmodel/`\n",
        "* `!tar -xvf W9CDEEP3M50687 -C /home/trainedmodel/`\n",
        "* `!runprediction.sh --augspeed 10 --models 3fm /home/trainedmodel/membranes_SBEMTEM_denoised_lastmodel /home/6283/ /home/predictout_out/`"
      ]
    },
    {
      "cell_type": "markdown",
      "metadata": {
        "id": "4jxMlfN2fcQ3",
        "colab_type": "text"
      },
      "source": [
        "**Example 2: Run a training from scratch using demodata**\n",
        "\n",
        "* `!PreprocessTrainingData.py $cdeep3m_folder/mito_testsample/training/images/ $cdeep3m_folder/mito_testsample/training/labels/ $cdeep3m_folder/mito_testsample/mito_test_augmented`\n",
        "\n",
        "* `!runtraining.sh --numiterations 50 --snapshot_interval 10 $cdeep3m_folder/mito_testsample/mito_test_augmented $cdeep3m_folder/mito_testsample/demo_trained`\n",
        "\n",
        "* `$cdeep3m_folder/runprediction.sh $cdeep3m_folder/mito_testsample/demo_trained/ $cdeep3m_folder/mito_testsample/testset/ $cdeep3m_folder/mito_testsample/demo_predictout`\n",
        "\n",
        "* `!python3 PlotValidation.py $cdeep3m_folder/mito_testsample/demo_predictout/3fm/log/`"
      ]
    }
  ]
}