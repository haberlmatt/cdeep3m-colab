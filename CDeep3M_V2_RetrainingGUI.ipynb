{
  "nbformat": 4,
  "nbformat_minor": 0,
  "metadata": {
    "colab": {
      "name": "CDeep3M-V2-RetrainingGUI.ipynb",
      "provenance": [],
      "collapsed_sections": [],
      "authorship_tag": "ABX9TyMmsCp2foOY7OVCZe21OQes",
      "include_colab_link": true
    },
    "kernelspec": {
      "name": "python3",
      "display_name": "Python 3"
    },
    "accelerator": "GPU"
  },
  "cells": [
    {
      "cell_type": "markdown",
      "metadata": {
        "id": "view-in-github",
        "colab_type": "text"
      },
      "source": [
        "<a href=\"https://colab.research.google.com/github/haberlmatt/cdeep3m-colabs/blob/master/CDeep3M_V2_RetrainingGUI.ipynb\" target=\"_parent\"><img src=\"https://colab.research.google.com/assets/colab-badge.svg\" alt=\"Open In Colab\"/></a>"
      ]
    },
    {
      "cell_type": "markdown",
      "metadata": {
        "id": "j3VNwQz5dZh0",
        "colab_type": "text"
      },
      "source": [
        "# <font color='#000FF'> **CDeep3M Installation:** </font>\n",
        "\n",
        "Run cell 1 below to install CDeep3M"
      ]
    },
    {
      "cell_type": "code",
      "metadata": {
        "id": "pXbJz-P7zdA1",
        "colab_type": "code",
        "colab": {}
      },
      "source": [
        "#################\n",
        "# Prep\n",
        "#################\n",
        "\n",
        "!mkdir -p /home/\n",
        "# Get the repo\n",
        "!git clone https://github.com/haberlmatt/cdeep3m-colabs.git\n",
        "\n",
        "# Install CDeep3M - Packaged into a installer file\n",
        "!chmod 777 /home/cdeep3m-colabs/*\n",
        "\n",
        "# Make sure enough GPU memory available on this instance\n",
        "!python /home/cdeep3m-colabs/pythontest_GPUmem.py\n",
        "#!nvidia-smi\n",
        "\n",
        "##################################\n",
        "# Run CDeep3M installation\n",
        "##################################\n",
        "!/bin/bash /home/cdeep3m-colabs/CDeep3M_V2_colabs-installer.sh > /home/CDeep3m_installation.log\n",
        "\n",
        "#################\n",
        "# Set Environment\n",
        "#################\n",
        "import os\n",
        "os.environ['PATH'] += \":/home/nd_sense/caffe_nd_sense_segmentation/\"\n",
        "os.environ['CAFFE_PATH'] = \"/home/nd_sense/caffe_nd_sense_segmentation/\"\n",
        "os.environ['PYTHONPATH'] = \"/home/nd_sense/caffe_nd_sense_segmentation/distribute/python/\"\n",
        "os.environ['PATH'] += \":/home/cdeep3m/\"\n",
        "\n",
        "print(\"CDeep3M installation completed \\n   Runnning CDeep3M Version\")\n",
        "!cat /home/cdeep3m/VERSION\n",
        "print(\"\\nPlease see https://github.com/haberlmatt/cdeep3m-colabs for further information on using CDeep3M\")"
      ],
      "execution_count": 0,
      "outputs": []
    },
    {
      "cell_type": "code",
      "metadata": {
        "id": "ykcqRXUsl9Qu",
        "colab_type": "code",
        "cellView": "form",
        "colab": {}
      },
      "source": [
        "#@title # CDeep3M Colabs -- Retrain model GUI\n",
        "#@markdown Simple user interface to run CDeep3M on Colabs\n",
        "#@markdown Please make sure to run installation above first\n",
        "\n",
        "#@markdown ### Please pick a DOI from the CDeep3M model zoo\n",
        "#@markdown #### See: http://www.cellimagelibrary.org/cdeep3m\n",
        "Model_DOI = 'https://doi.org/10.7295/W9CDEEP3M50687' #@param {type:\"string\"}\n",
        "#@markdown ### Insert Path to your training images here:\n",
        "Image_Path = '/home/cdeep3m/mito_testsample/training/images' #@param {type:\"string\"}\n",
        "#@markdown ### Insert Path to your training labels here:\n",
        "Label_Path = '/home/cdeep3m/mito_testsample/training/labels' #@param {type:\"string\"}\n",
        "\n",
        "secondary_augm=int(-1)\n",
        "tertiary_augm=0\n",
        "# Hidden feature, uncomment following two lines to set secondary and tertiary augmentations:\n",
        "#secondary_augm = -1 #@param {type:\"slider\", min:-1, max:10, step:1}\n",
        "#tertiary_augm = 0 #@param {type:\"slider\", min:0, max:10, step:1}\n",
        "\n",
        "\n",
        "#@markdown ### How many training iterations:\n",
        "num_iter = 1000 #@param {type:\"slider\", min:100, max:5000, step:100}\n",
        "#@markdown ### Train network seeing 1 frame, 3 frames, 5 frames:\n",
        "train_1fm = True #@param {type:\"boolean\"}\n",
        "train_3fm = True #@param {type:\"boolean\"}\n",
        "train_5fm = True #@param {type:\"boolean\"}\n",
        "\n",
        "#@markdown ---\n",
        "#@markdown ### Enter a path where files are written:\n",
        "output_path = \"/home/retrained_model/\" #@param {type:\"string\"}\n",
        "#@markdown ---\n",
        "\n",
        "import os\n",
        "if Model_DOI is not None and Model_DOI !='':    \n",
        "    %cd /home/    \n",
        "    !rm -r /home/trainedmodel\n",
        "    !mkdir /home/trainedmodel/\n",
        "    cmd=str(\"wget -O model_download \" + Model_DOI)\n",
        "    print(cmd)   \n",
        "    os.system(cmd)\n",
        "    #!wget -O \"model_download\" Model_DOI\n",
        "    !tar -xvf model_download -C /home/trainedmodel/\n",
        "    d = '/home/trainedmodel/'\n",
        "    model_path = [os.path.join(d, o) for o in os.listdir(d) \n",
        "                        if os.path.isdir(os.path.join(d,o))]\n",
        "else:\n",
        "    print('Provide a model')\n",
        "\n",
        "# Convert into 1fm, 3fm and 5fm selection into string\n",
        "fm_list = [str('1fm' * train_1fm), str('3fm' * train_3fm), str('5fm' * train_5fm)]\n",
        "filtered_fm = filter(lambda x: x != \"\", fm_list)\n",
        "combined_fm = list(filtered_fm)\n",
        "fm_string = ','.join(combined_fm)\n",
        "if fm_string is not None and fm_string !='':\n",
        "    print('Running: ' + fm_string)\n",
        "else:\n",
        "    print('Provide a selection for which fm model to run')\n",
        "\n",
        "print('Starting to run ...')\n",
        "# Preprocess Training Data\n",
        "augmented_path='/home/augmented_data/'\n",
        "exec_command=str('PreprocessTraining.py ' + Image_Path + ' ' + Label_Path + ' ' + str(secondary_augm) + ' ' + str(tertiary_augm) + ' ' + augmented_path) \n",
        "print(exec_command)\n",
        "!{exec_command}\n",
        "# currently removed --models ' + fm_string + ' '\n",
        "exec_command=str('runtraining.sh ' + '--numiterations ' + str(num_iter)  + ' ' + augmented_path +  ' ' + output_path) \n",
        "print(exec_command)\n",
        "!{exec_command}\n",
        "\n",
        "if train_1fm == True:\n",
        "    exec_command=str('PlotValidation.py ' + os.path.join(output_path, '1fm','log'))\n",
        "    !{exec_command}\n",
        "if train_3fm == True:\n",
        "    exec_command=str('PlotValidation.py ' + os.path.join(output_path, '3fm','log'))\n",
        "    !{exec_command}\n",
        "if train_3fm == True:\n",
        "    exec_command=str('PlotValidation.py ' + os.path.join(output_path, '5fm','log'))\n",
        "    !{exec_command}"
      ],
      "execution_count": 0,
      "outputs": []
    }
  ]
}