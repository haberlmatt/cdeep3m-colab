{
  "nbformat": 4,
  "nbformat_minor": 0,
  "metadata": {
    "colab": {
      "name": "CDeep3M-V2-PredictionGUI.ipynb",
      "provenance": [],
      "collapsed_sections": [],
      "authorship_tag": "ABX9TyMLhYII28m26jH95JlbdACL",
      "include_colab_link": true
    },
    "kernelspec": {
      "name": "python3",
      "display_name": "Python 3"
    },
    "accelerator": "GPU"
  },
  "cells": [
    {
      "cell_type": "markdown",
      "metadata": {
        "id": "view-in-github",
        "colab_type": "text"
      },
      "source": [
        "<a href=\"https://colab.research.google.com/github/haberlmatt/cdeep3m-colabs/blob/master/CDeep3M_V2_PredictionGUI.ipynb\" target=\"_parent\"><img src=\"https://colab.research.google.com/assets/colab-badge.svg\" alt=\"Open In Colab\"/></a>"
      ]
    },
    {
      "cell_type": "markdown",
      "metadata": {
        "id": "j3VNwQz5dZh0",
        "colab_type": "text"
      },
      "source": [
        "# <font color='#000FF'> **CDeep3M Installation:** </font>\n",
        "\n",
        "Run cell 1 below to install CDeep3M"
      ]
    },
    {
      "cell_type": "code",
      "metadata": {
        "id": "pXbJz-P7zdA1",
        "colab_type": "code",
        "colab": {}
      },
      "source": [
        "#################\n",
        "# Prep\n",
        "#################\n",
        "\n",
        "!mkdir -p /home/\n",
        "# Get the repo\n",
        "!git clone https://github.com/haberlmatt/cdeep3m-colabs.git\n",
        "\n",
        "# Install CDeep3M - Packaged into a installer file\n",
        "!chmod 777 /home/cdeep3m-colabs/*\n",
        "\n",
        "# Make sure enough GPU memory available on this instance\n",
        "!python /home/cdeep3m-colabs/pythontest_GPUmem.py\n",
        "#!nvidia-smi\n",
        "\n",
        "##################################\n",
        "# Run CDeep3M installation\n",
        "##################################\n",
        "!/bin/bash /home/cdeep3m-colabs/CDeep3M_V2_colabs-installer.sh > /home/CDeep3m_installation.log\n",
        "\n",
        "#################\n",
        "# Set Environment\n",
        "#################\n",
        "import os\n",
        "os.environ['PATH'] += \":/content/caffe_nd_sense_segmentation/\"\n",
        "os.environ['CAFFE_PATH'] = \"/content/caffe_nd_sense_segmentation/\"\n",
        "os.environ['PYTHONPATH'] = \"/content/caffe_nd_sense_segmentation/distribute/python/\"\n",
        "\n",
        "print(\"CDeep3M installation completed \\n   Runnning CDeep3M Version\")\n",
        "!cat /home/cdeep3m/VERSION\n",
        "print(\"\\nPlease see https://github.com/haberlmatt/cdeep3m-colabs for further information on using CDeep3M\")"
      ],
      "execution_count": 0,
      "outputs": []
    },
    {
      "cell_type": "markdown",
      "metadata": {
        "id": "dZdpF0nGckmt",
        "colab_type": "text"
      },
      "source": [
        "---\n",
        "---\n",
        "# **Quick instructions:**\n",
        "\n",
        "***Most important commands:***\n",
        "`runprediction.sh`, `PreprocessTraining.py`, `runtraining.sh`\n",
        "\n",
        "***Hint:***\n",
        "Upload your data to the `/home/data` directory and start processing\n",
        "\n",
        "\n",
        "\n",
        "---\n",
        "---\n",
        "\n",
        "\n",
        "Please see https://github.com/haberlmatt/cdeep3m-colabs for more detailed information on using CDeep3M\n",
        "Quick examples are provided below"
      ]
    },
    {
      "cell_type": "code",
      "metadata": {
        "id": "5T4CFtQqdq36",
        "colab_type": "code",
        "colab": {}
      },
      "source": [
        "###########################################\n",
        "# Insert your CLI code here to run CDeep3M:\n",
        "###########################################\n",
        "\n",
        "!runprediction.sh ...\n"
      ],
      "execution_count": 0,
      "outputs": []
    },
    {
      "cell_type": "markdown",
      "metadata": {
        "id": "Tf9ctB6KiPQn",
        "colab_type": "text"
      },
      "source": [
        "# ** Examples and Demoruns**\n",
        "**Example 1: Perform prediction on demodata using a pretrained model from database**\n",
        "\n",
        "* `!wget https://doi.org/10.7295/W9CDEEP3M50687`\n",
        "* `!mkdir /home/trainedmodel/`\n",
        "* `!tar -xvf W9CDEEP3M50687 -C /home/trainedmodel/`\n",
        "* `!runprediction.sh --augspeed 10 --models 3fm /home/trainedmodel/membranes_SBEMTEM_denoised_lastmodel /home/6283/ /home/predictout_out/`"
      ]
    },
    {
      "cell_type": "markdown",
      "metadata": {
        "id": "4jxMlfN2fcQ3",
        "colab_type": "text"
      },
      "source": [
        "**Example 2: Run a training from scratch using demodata**\n",
        "\n",
        "* `!PreprocessTrainingData.py $cdeep3m_folder/mito_testsample/training/images/ $cdeep3m_folder/mito_testsample/training/labels/ $cdeep3m_folder/mito_testsample/mito_test_augmented`\n",
        "\n",
        "* `!runtraining.sh --numiterations 50 --snapshot_interval 10 $cdeep3m_folder/mito_testsample/mito_test_augmented $cdeep3m_folder/mito_testsample/demo_trained`\n",
        "\n",
        "* `$cdeep3m_folder/runprediction.sh $cdeep3m_folder/mito_testsample/demo_trained/ $cdeep3m_folder/mito_testsample/testset/ $cdeep3m_folder/mito_testsample/demo_predictout`\n",
        "\n",
        "* `!python3 PlotValidation.py $cdeep3m_folder/mito_testsample/demo_predictout/3fm/log/`"
      ]
    },
    {
      "cell_type": "code",
      "metadata": {
        "id": "ykcqRXUsl9Qu",
        "colab_type": "code",
        "colab": {
          "base_uri": "https://localhost:8080/",
          "height": 85
        },
        "cellView": "both",
        "outputId": "503d8703-5cbe-4f30-da79-13ae44201d37"
      },
      "source": [
        "#@title # CDeep3M Colabs -- Prediction GUI\n",
        "#@markdown Simple user interface to run CDeep3M on Colabs\n",
        "#@markdown Please make sure to run installation above first\n",
        "\n",
        "#@markdown ### Please pick a DOI from the CDeep3M model zoo\n",
        "#@markdown #### See: http://www.cellimagelibrary.org/cdeep3m\n",
        "Model_DOI = 'https://doi.org/10.7295/W9CDEEP3M50687' #@param {type:\"string\"}\n",
        "#@markdown ### Insert Path to your images here:\n",
        "Image_Path = '/home/cdeep3m/mito_testsample/testset' #@param {type:\"string\"}\n",
        "#@markdown ### Select parameter to run CDeep3M prediction:\n",
        "Augspeed = '10' #@param [\"10\", \"4\", \"2\", \"1\"]\n",
        "selected_aug=int(Augspeed)\n",
        "\n",
        "run_1fm = False #@param {type:\"boolean\"}\n",
        "run_3fm = True #@param {type:\"boolean\"}\n",
        "run_5fm = False #@param {type:\"boolean\"}\n",
        "\n",
        "#@markdown ---\n",
        "#@markdown ### Enter a path where files are written:\n",
        "output_path = \"/home/predictout/\" #@param {type:\"string\"}\n",
        "#@markdown ---\n",
        "\n",
        "import os\n",
        "if Model_DOI is not None and Model_DOI !='':\n",
        "    '''\n",
        "    %cd /home/    \n",
        "    !rm -r /home/trainedmodel\n",
        "    !mkdir /home/trainedmodel/\n",
        "    cmd=str(\"wget -O model_download \" + Model_DOI)\n",
        "    print(cmd)   \n",
        "    os.system(cmd)\n",
        "    #!wget -O \"model_download\" Model_DOI\n",
        "    !tar -xvf model_download -C /home/trainedmodel/\n",
        "    '''\n",
        "    d = '/home/trainedmodel/'\n",
        "    model_path = [os.path.join(d, o) for o in os.listdir(d) \n",
        "                        if os.path.isdir(os.path.join(d,o))]\n",
        "else:\n",
        "    print('Provide a model')\n",
        "\n",
        "if Image_Path is not None and Image_Path !='':\n",
        "    print('Reading image')\n",
        "else:\n",
        "    print('Provide a image path')\n",
        "\n",
        "\n",
        "# Convert into 1fm, 3fm and 5fm selection into string\n",
        "fm_list = [str('1fm' * run_1fm), str('3fm' * run_3fm), str('5fm' * run_5fm)]\n",
        "filtered_fm = filter(lambda x: x != \"\", fm_list)\n",
        "combined_fm = list(filtered_fm)\n",
        "fm_string = ','.join(combined_fm)\n",
        "if fm_string is not None and fm_string !='':\n",
        "    print('Running: ' + fm_string)\n",
        "else:\n",
        "    print('Provide a selection for which model depth to run')\n",
        "\n",
        "print('Starting to run ...')\n",
        "exec_command=str('runprediction.sh --augspeed ' + Augspeed + ' --models ' + fm_string + ' ' + model_path[0] + ' ' + Image_Path + ' ' + output_path) \n",
        "print(exec_command)\n",
        "\n",
        "#os.system(exec_command)"
      ],
      "execution_count": 33,
      "outputs": [
        {
          "output_type": "stream",
          "text": [
            "Reading image\n",
            "Running: 3fm\n",
            "Starting to run ...\n",
            "runprediction.sh --augspeed 10 --models 3fm /home/trainedmodel/membranes_SBEMTEM_denoised_lastmodel /home/cdeep3m/mito_testsample/testset /home/predictout/\n"
          ],
          "name": "stdout"
        }
      ]
    }
  ]
}