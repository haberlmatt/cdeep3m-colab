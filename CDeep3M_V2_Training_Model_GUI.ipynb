{
  "nbformat": 4,
  "nbformat_minor": 0,
  "metadata": {
    "colab": {
      "name": "CDeep3M-V2-Training_Model_GUI.ipynb",
      "provenance": [],
      "collapsed_sections": [],
      "authorship_tag": "ABX9TyMv80bMSfsw2gd2msyvBEGm",
      "include_colab_link": true
    },
    "kernelspec": {
      "name": "python3",
      "display_name": "Python 3"
    },
    "accelerator": "GPU"
  },
  "cells": [
    {
      "cell_type": "markdown",
      "metadata": {
        "id": "view-in-github",
        "colab_type": "text"
      },
      "source": [
        "<a href=\"https://colab.research.google.com/github/haberlmatt/cdeep3m-colabs/blob/master/CDeep3M_V2_Training_Model_GUI.ipynb\" target=\"_parent\"><img src=\"https://colab.research.google.com/assets/colab-badge.svg\" alt=\"Open In Colab\"/></a>"
      ]
    },
    {
      "cell_type": "markdown",
      "metadata": {
        "id": "j3VNwQz5dZh0",
        "colab_type": "text"
      },
      "source": [
        "# <font color='#000FF'> **CDeep3M Installation:** </font>\n",
        "\n",
        "Run cell 1 below to install CDeep3M"
      ]
    },
    {
      "cell_type": "code",
      "metadata": {
        "id": "pXbJz-P7zdA1",
        "colab_type": "code",
        "colab": {}
      },
      "source": [
        "#################\n",
        "# Prep\n",
        "#################\n",
        "\n",
        "!mkdir -p /home/\n",
        "# Get the repo\n",
        "!git clone https://github.com/haberlmatt/cdeep3m-colabs.git\n",
        "\n",
        "# Install CDeep3M - Packaged into a installer file\n",
        "!chmod 777 /home/cdeep3m-colabs/*\n",
        "\n",
        "# Make sure enough GPU memory available on this instance\n",
        "!python /home/cdeep3m-colabs/pythontest_GPUmem.py\n",
        "#!nvidia-smi\n",
        "\n",
        "##################################\n",
        "# Run CDeep3M installation\n",
        "##################################\n",
        "!/bin/bash /home/cdeep3m-colabs/CDeep3M_V2_colabs-installer.sh > /home/CDeep3m_installation.log\n",
        "\n",
        "#################\n",
        "# Set Environment\n",
        "#################\n",
        "import os\n",
        "os.environ['PATH'] += \":/content/caffe_nd_sense_segmentation/\"\n",
        "os.environ['CAFFE_PATH'] = \"/content/caffe_nd_sense_segmentation/\"\n",
        "os.environ['PYTHONPATH'] = \"/content/caffe_nd_sense_segmentation/distribute/python/\"\n",
        "\n",
        "print(\"CDeep3M installation completed \\n   Runnning CDeep3M Version\")\n",
        "!cat /home/cdeep3m/VERSION\n",
        "print(\"\\nPlease see https://github.com/haberlmatt/cdeep3m-colabs for further information on using CDeep3M\")"
      ],
      "execution_count": 0,
      "outputs": []
    },
    {
      "cell_type": "code",
      "metadata": {
        "id": "ykcqRXUsl9Qu",
        "colab_type": "code",
        "cellView": "both",
        "colab": {
          "base_uri": "https://localhost:8080/",
          "height": 102
        },
        "outputId": "973c3845-39a8-4323-b535-4da5d9e8f5ef"
      },
      "source": [
        "#@title # **CDeep3M Colabs -- Train model from scratch GUI**\n",
        "#@markdown <font color='#FF000'>(**NOTE:** Colabs is not recommended to train a model from scratch, since the runtimes are too long to achieve good results, consider retraining from another model or running the CDeep3M docker container using a local GPU to train a model from scratch)</font>\n",
        "#@markdown ### See the CDeep3M model zoo: http://www.cellimagelibrary.org/cdeep3m\n",
        "#@markdown Please make sure to run installation above first\n",
        "\n",
        "#@markdown ### Insert Path to your images here:\n",
        "Image_Path = '/home/cdeep3m/mito_testsample/training/images' #@param {type:\"string\"}\n",
        "#@markdown ### Insert Path to your labels here:\n",
        "Label_Path = '/home/cdeep3m/mito_testsample/training/labels' #@param {type:\"string\"}\n",
        "\n",
        "secondary_augm=int(-1)\n",
        "tertiary_augm=0\n",
        "# Hidden feature, uncomment following two lines to set secondary and tertiary augmentations:\n",
        "#secondary_augm = -1 #@param {type:\"slider\", min:-1, max:10, step:1}\n",
        "#tertiary_augm = 0 #@param {type:\"slider\", min:0, max:10, step:1}\n",
        "\n",
        "\n",
        "#@markdown ### How many training iterations:\n",
        "num_iter = 10000 #@param {type:\"slider\", min:5000, max:50000, step:1000}\n",
        "#@markdown ### Train network seeing 1 frame, 3 frames, 5 frames:\n",
        "train_1fm = True #@param {type:\"boolean\"}\n",
        "train_3fm = True #@param {type:\"boolean\"}\n",
        "train_5fm = True #@param {type:\"boolean\"}\n",
        "\n",
        "#@markdown ---\n",
        "#@markdown ### Enter a path where trained model will be written:\n",
        "output_path = \"/home/trainedmodel/\" #@param {type:\"string\"}\n",
        "#@markdown ---\n",
        "\n",
        "# Convert into 1fm, 3fm and 5fm selection into string\n",
        "fm_list = [str('1fm' * train_1fm), str('3fm' * train_3fm), str('5fm' * train_5fm)]\n",
        "filtered_fm = filter(lambda x: x != \"\", fm_list)\n",
        "combined_fm = list(filtered_fm)\n",
        "fm_string = ','.join(combined_fm)\n",
        "if fm_string is not None and fm_string !='':\n",
        "    print('Running: ' + fm_string)\n",
        "else:\n",
        "    print('Provide a selection for which fm model to run')\n",
        "\n",
        "import os\n",
        "print('Starting to run ...')\n",
        "# Preprocess Training Data\n",
        "augmented_path='/home/augmented_data/'\n",
        "exec_command=str('python3 PreprocessTraining.py ' + Image_Path + ' ' + Label_Path + ' ' + str(secondary_augm) + ' ' + str(tertiary_augm) + ' ' + augmented_path) \n",
        "print(exec_command)\n",
        "os.system(exec_command)\n",
        "# currently removed --models ' + fm_string + ' '\n",
        "exec_command=str('runtraining.sh ' '--numiterations ' + str(num_iter)  + ' ' + augmented_path +  ' ' + output_path) \n",
        "print(exec_command)\n",
        "\n",
        "os.system(exec_command)"
      ],
      "execution_count": 5,
      "outputs": [
        {
          "output_type": "stream",
          "text": [
            "Running: 1fm,3fm,5fm\n",
            "Starting to run ...\n",
            "python3 PreprocessTraining.py /home/cdeep3m/mito_testsample/training/images /home/cdeep3m/mito_testsample/training/labels -1 0 /home/augmented_data\n",
            "runtraining.sh --numiterations 10000 /home/augmented_data /home/trainedmodel/\n"
          ],
          "name": "stdout"
        },
        {
          "output_type": "execute_result",
          "data": {
            "text/plain": [
              "32512"
            ]
          },
          "metadata": {
            "tags": []
          },
          "execution_count": 5
        }
      ]
    }
  ]
}